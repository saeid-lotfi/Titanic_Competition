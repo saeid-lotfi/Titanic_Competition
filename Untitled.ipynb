{
 "cells": [
  {
   "cell_type": "code",
   "execution_count": 1,
   "id": "ca42b5f5-4f71-4190-b92e-17bb57153e63",
   "metadata": {},
   "outputs": [],
   "source": [
    "import pandas as pd\n",
    "import numpy as np"
   ]
  },
  {
   "cell_type": "code",
   "execution_count": 2,
   "id": "4d60d1d3-a0ed-4cd1-a27f-893b04ab6278",
   "metadata": {},
   "outputs": [],
   "source": [
    "# file path\n",
    "path_train = './Data/train.csv'\n",
    "path_test = './Data/test.csv'\n",
    "\n",
    "# laoding CSV\n",
    "data = pd.read_csv(path_train)\n",
    "data_test = pd.read_csv(path_test)"
   ]
  },
  {
   "cell_type": "code",
   "execution_count": 3,
   "id": "24488b66-12d2-4c12-84b1-540689f73e5e",
   "metadata": {},
   "outputs": [],
   "source": [
    "from sklearn.model_selection import train_test_split\n",
    "from sklearn.preprocessing import StandardScaler\n",
    "from sklearn.preprocessing import OneHotEncoder\n",
    "from sklearn.compose import ColumnTransformer\n",
    "from sklearn.impute import SimpleImputer"
   ]
  },
  {
   "cell_type": "code",
   "execution_count": 4,
   "id": "d8587cb3-7599-45ec-a90e-e6f263f0f27a",
   "metadata": {},
   "outputs": [],
   "source": [
    "# changing to numerical format\n",
    "\n",
    "# backup to keep data files unchanged\n",
    "X = data.copy() # creating a copy\n",
    "X_test = data_test.copy()\n",
    "\n",
    "# data types correction\n",
    "X.Sex = X.Sex.map({'male': 1, 'female': 0}).astype('float64') # gender formatting to 0/1\n",
    "X_test.Sex = X_test.Sex.map({'male': 1, 'female': 0}).astype('float64')\n",
    "\n",
    "# splitting to dependent and independent features\n",
    "y = X.Survived.values # target vector / dependent feature\n",
    "X = X.loc[:, ['Pclass', 'Sex', 'SibSp', 'Parch', 'Fare', 'Embarked']].values # independent features\n",
    "X_test = X_test.loc[:, ['Pclass', 'Sex', 'SibSp', 'Parch', 'Fare', 'Embarked']].values\n",
    "\n",
    "# taking care of missing values in Embarked and Fare column\n",
    "mostfrq_imputer = SimpleImputer(missing_values=np.nan, strategy='most_frequent')\n",
    "median_imputer = SimpleImputer(missing_values=np.nan, strategy='median')\n",
    "X[:, [-1]] = mostfrq_imputer.fit_transform(X[:, [-1]]) # fitting most frequent label for nulls in Embarked column\n",
    "X_test[:, [-1]] = mostfrq_imputer.transform(X_test[:, [-1]])\n",
    "X[:, [-2]] = median_imputer.fit_transform(X[:, [-2]]) # fitting median value for nulls in Fare column\n",
    "X_test[:, [-2]] = median_imputer.transform(X_test[:, [-2]])\n",
    "\n",
    "# OneHot encoding for categorical features\n",
    "ct = ColumnTransformer(transformers=[('encoder', OneHotEncoder(), [0, -1])], remainder='passthrough') #encoding Pclass and Embarked to OneHot format\n",
    "X = np.array(ct.fit_transform(X)) # applying to train data\n",
    "X_test = np.array(ct.transform(X_test)) # applying the same to the test data"
   ]
  },
  {
   "cell_type": "code",
   "execution_count": 5,
   "id": "a641244d-3357-414a-8928-50c795c4d7c9",
   "metadata": {},
   "outputs": [],
   "source": [
    "from sklearn.linear_model import LogisticRegression\n",
    "from sklearn.metrics import confusion_matrix, accuracy_score"
   ]
  },
  {
   "cell_type": "code",
   "execution_count": 29,
   "id": "95d4f604-9bb5-4d40-b738-97b1d81b736c",
   "metadata": {},
   "outputs": [],
   "source": [
    "# spliting data for train and validation\n",
    "test_val_ratio = 0.2\n",
    "X_train, X_val, y_train, y_val = train_test_split(X, y, test_size = test_val_ratio)\n",
    "\n",
    "# feature scaling and normalizing\n",
    "sc = StandardScaler()\n",
    "X_train[:, 3:] = sc.fit_transform(X_train[:, 3:]) # OneHot columns are unchanged\n",
    "X_val[:, 3:] = sc.transform(X_val[:, 3:])"
   ]
  },
  {
   "cell_type": "code",
   "execution_count": 30,
   "id": "95c2cf80-851f-4fc3-b4ab-5375a5f03829",
   "metadata": {},
   "outputs": [
    {
     "name": "stdout",
     "output_type": "stream",
     "text": [
      "74.86 %\n",
      "                 Died  Survived\n",
      "Really Died        90        18\n",
      "Really Survived    27        44\n",
      "*****\n",
      "Survival Rate 0.3838383838383838\n",
      "Prediction Rate 0.3463687150837989\n"
     ]
    }
   ],
   "source": [
    "# classifier definition\n",
    "modedl_lr = LogisticRegression() # defining a Logistic Regressor\n",
    "\n",
    "#fitting on train data\n",
    "modedl_lr.fit(X_train, y_train)\n",
    "\n",
    "# predicting the validation data to estimate the out of sample error\n",
    "pred = modedl_lr.predict(X_val)\n",
    "print(round(accuracy_score(y_val, pred) * 100, 2), '%')\n",
    "\n",
    "# confusion matrix \n",
    "cm = pd.DataFrame(confusion_matrix(y_val, pred), index = ['Really Died', 'Really Survived'], columns = ['Died', 'Survived'])\n",
    "print(cm)\n",
    "print('*****')\n",
    "print('Survival Rate', y.mean())\n",
    "print('Prediction Rate', pred.mean())"
   ]
  },
  {
   "cell_type": "code",
   "execution_count": 31,
   "id": "f0e144a4-abaf-408e-a7d6-f28f7e2030f3",
   "metadata": {},
   "outputs": [
    {
     "name": "stdout",
     "output_type": "stream",
     "text": [
      "80.02 %\n",
      "                 Died  Survived\n",
      "Really Died       480        69\n",
      "Really Survived   109       233\n",
      "*****\n",
      "Survival Rate 0.3838383838383838\n",
      "Prediction Rate 0.3389450056116723\n"
     ]
    }
   ],
   "source": [
    "#feature scaling and normalizing\n",
    "sc = StandardScaler()\n",
    "X[:, 3:] = sc.fit_transform(X[:, 3:]) # OneHot columns are unchanged\n",
    "X_test[:, 3:] = sc.transform(X_test[:, 3:])\n",
    "\n",
    "# classifier definition\n",
    "best_model = LogisticRegression()\n",
    "\n",
    "#fitting on full data\n",
    "best_model.fit(X, y)\n",
    "\n",
    "# predicting the full data to check its result\n",
    "pred = best_model.predict(X)\n",
    "print(round(accuracy_score(y, pred) * 100, 2), '%')\n",
    "\n",
    "# confusion matrix \n",
    "cm = pd.DataFrame(confusion_matrix(y, pred), index = ['Really Died', 'Really Survived'], columns = ['Died', 'Survived'])\n",
    "print(cm)\n",
    "print('*****')\n",
    "print('Survival Rate', y.mean())\n",
    "print('Prediction Rate', pred.mean())"
   ]
  }
 ],
 "metadata": {
  "kernelspec": {
   "display_name": "Python 3",
   "language": "python",
   "name": "python3"
  },
  "language_info": {
   "codemirror_mode": {
    "name": "ipython",
    "version": 3
   },
   "file_extension": ".py",
   "mimetype": "text/x-python",
   "name": "python",
   "nbconvert_exporter": "python",
   "pygments_lexer": "ipython3",
   "version": "3.8.10"
  }
 },
 "nbformat": 4,
 "nbformat_minor": 5
}
